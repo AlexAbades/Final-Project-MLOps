{
 "cells": [
  {
   "cell_type": "code",
   "execution_count": 58,
   "id": "2186ff00",
   "metadata": {},
   "outputs": [],
   "source": [
    "import os\n",
    "import pandas as pd\n",
    "import torch\n",
    "import numpy as np"
   ]
  },
  {
   "cell_type": "code",
   "execution_count": 16,
   "id": "1646a798",
   "metadata": {},
   "outputs": [],
   "source": [
    "_NOTEBOOKS_ROOT = os.getcwd()  # root of test folder\n",
    "_PROJECT_ROOT = os.path.dirname(_NOTEBOOKS_ROOT)  # root of project\n",
    "_PATH_DATA = os.path.join(_PROJECT_ROOT, \"Data/Processed\")  # root of data"
   ]
  },
  {
   "cell_type": "code",
   "execution_count": 17,
   "id": "3d0c981f",
   "metadata": {},
   "outputs": [
    {
     "data": {
      "text/html": [
       "<div>\n",
       "<style scoped>\n",
       "    .dataframe tbody tr th:only-of-type {\n",
       "        vertical-align: middle;\n",
       "    }\n",
       "\n",
       "    .dataframe tbody tr th {\n",
       "        vertical-align: top;\n",
       "    }\n",
       "\n",
       "    .dataframe thead th {\n",
       "        text-align: right;\n",
       "    }\n",
       "</style>\n",
       "<table border=\"1\" class=\"dataframe\">\n",
       "  <thead>\n",
       "    <tr style=\"text-align: right;\">\n",
       "      <th></th>\n",
       "      <th>Reviews</th>\n",
       "      <th>Sentiment</th>\n",
       "    </tr>\n",
       "  </thead>\n",
       "  <tbody>\n",
       "    <tr>\n",
       "      <th>0.0</th>\n",
       "      <td>@MeNyrbie @Phil_Gahan @Chrisitv https://t.co/i...</td>\n",
       "      <td>2.0</td>\n",
       "    </tr>\n",
       "    <tr>\n",
       "      <th>1.0</th>\n",
       "      <td>advice Talk to your neighbours family to excha...</td>\n",
       "      <td>3.0</td>\n",
       "    </tr>\n",
       "    <tr>\n",
       "      <th>2.0</th>\n",
       "      <td>Coronavirus Australia: Woolworths to give elde...</td>\n",
       "      <td>3.0</td>\n",
       "    </tr>\n",
       "    <tr>\n",
       "      <th>3.0</th>\n",
       "      <td>My food stock is not the only one which is emp...</td>\n",
       "      <td>3.0</td>\n",
       "    </tr>\n",
       "    <tr>\n",
       "      <th>4.0</th>\n",
       "      <td>Me, ready to go at supermarket during the #COV...</td>\n",
       "      <td>0.0</td>\n",
       "    </tr>\n",
       "    <tr>\n",
       "      <th>...</th>\n",
       "      <td>...</td>\n",
       "      <td>...</td>\n",
       "    </tr>\n",
       "    <tr>\n",
       "      <th>41152.0</th>\n",
       "      <td>Airline pilots offering to stock supermarket s...</td>\n",
       "      <td>2.0</td>\n",
       "    </tr>\n",
       "    <tr>\n",
       "      <th>41153.0</th>\n",
       "      <td>Response to complaint not provided citing COVI...</td>\n",
       "      <td>0.0</td>\n",
       "    </tr>\n",
       "    <tr>\n",
       "      <th>41154.0</th>\n",
       "      <td>You know itÂs getting tough when @KameronWild...</td>\n",
       "      <td>3.0</td>\n",
       "    </tr>\n",
       "    <tr>\n",
       "      <th>41155.0</th>\n",
       "      <td>Is it wrong that the smell of hand sanitizer i...</td>\n",
       "      <td>2.0</td>\n",
       "    </tr>\n",
       "    <tr>\n",
       "      <th>41156.0</th>\n",
       "      <td>@TartiiCat Well new/used Rift S are going for ...</td>\n",
       "      <td>1.0</td>\n",
       "    </tr>\n",
       "  </tbody>\n",
       "</table>\n",
       "<p>41159 rows × 2 columns</p>\n",
       "</div>"
      ],
      "text/plain": [
       "                                                   Reviews  Sentiment\n",
       "0.0      @MeNyrbie @Phil_Gahan @Chrisitv https://t.co/i...        2.0\n",
       "1.0      advice Talk to your neighbours family to excha...        3.0\n",
       "2.0      Coronavirus Australia: Woolworths to give elde...        3.0\n",
       "3.0      My food stock is not the only one which is emp...        3.0\n",
       "4.0      Me, ready to go at supermarket during the #COV...        0.0\n",
       "...                                                    ...        ...\n",
       "41152.0  Airline pilots offering to stock supermarket s...        2.0\n",
       "41153.0  Response to complaint not provided citing COVI...        0.0\n",
       "41154.0  You know itÂs getting tough when @KameronWild...        3.0\n",
       "41155.0  Is it wrong that the smell of hand sanitizer i...        2.0\n",
       "41156.0  @TartiiCat Well new/used Rift S are going for ...        1.0\n",
       "\n",
       "[41159 rows x 2 columns]"
      ]
     },
     "execution_count": 17,
     "metadata": {},
     "output_type": "execute_result"
    }
   ],
   "source": [
    "train=pd.read_csv(os.path.join(_PATH_DATA ,\"df_train.csv\"),index_col=0)\n",
    "train"
   ]
  },
  {
   "cell_type": "code",
   "execution_count": 59,
   "id": "d9d07c70",
   "metadata": {},
   "outputs": [
    {
     "data": {
      "text/plain": [
       "array([ 0.,  1.,  2.,  3.,  4., nan])"
      ]
     },
     "execution_count": 59,
     "metadata": {},
     "output_type": "execute_result"
    }
   ],
   "source": [
    "np.unique(train['Sentiment'])"
   ]
  },
  {
   "cell_type": "code",
   "execution_count": 18,
   "id": "c75a7aa7",
   "metadata": {},
   "outputs": [
    {
     "data": {
      "text/html": [
       "<div>\n",
       "<style scoped>\n",
       "    .dataframe tbody tr th:only-of-type {\n",
       "        vertical-align: middle;\n",
       "    }\n",
       "\n",
       "    .dataframe tbody tr th {\n",
       "        vertical-align: top;\n",
       "    }\n",
       "\n",
       "    .dataframe thead th {\n",
       "        text-align: right;\n",
       "    }\n",
       "</style>\n",
       "<table border=\"1\" class=\"dataframe\">\n",
       "  <thead>\n",
       "    <tr style=\"text-align: right;\">\n",
       "      <th></th>\n",
       "      <th>Reviews</th>\n",
       "      <th>Sentiment</th>\n",
       "    </tr>\n",
       "  </thead>\n",
       "  <tbody>\n",
       "    <tr>\n",
       "      <th>0</th>\n",
       "      <td>TRENDING: New Yorkers encounter empty supermar...</td>\n",
       "      <td>0</td>\n",
       "    </tr>\n",
       "    <tr>\n",
       "      <th>1</th>\n",
       "      <td>When I couldn't find hand sanitizer at Fred Me...</td>\n",
       "      <td>3</td>\n",
       "    </tr>\n",
       "    <tr>\n",
       "      <th>2</th>\n",
       "      <td>Find out how you can protect yourself and love...</td>\n",
       "      <td>4</td>\n",
       "    </tr>\n",
       "    <tr>\n",
       "      <th>3</th>\n",
       "      <td>#Panic buying hits #NewYork City as anxious sh...</td>\n",
       "      <td>1</td>\n",
       "    </tr>\n",
       "    <tr>\n",
       "      <th>4</th>\n",
       "      <td>#toiletpaper #dunnypaper #coronavirus #coronav...</td>\n",
       "      <td>2</td>\n",
       "    </tr>\n",
       "    <tr>\n",
       "      <th>...</th>\n",
       "      <td>...</td>\n",
       "      <td>...</td>\n",
       "    </tr>\n",
       "    <tr>\n",
       "      <th>3793</th>\n",
       "      <td>Meanwhile In A Supermarket in Israel -- People...</td>\n",
       "      <td>3</td>\n",
       "    </tr>\n",
       "    <tr>\n",
       "      <th>3794</th>\n",
       "      <td>Did you panic buy a lot of non-perishable item...</td>\n",
       "      <td>1</td>\n",
       "    </tr>\n",
       "    <tr>\n",
       "      <th>3795</th>\n",
       "      <td>Asst Prof of Economics @cconces was on @NBCPhi...</td>\n",
       "      <td>2</td>\n",
       "    </tr>\n",
       "    <tr>\n",
       "      <th>3796</th>\n",
       "      <td>Gov need to do somethings instead of biar je r...</td>\n",
       "      <td>0</td>\n",
       "    </tr>\n",
       "    <tr>\n",
       "      <th>3797</th>\n",
       "      <td>I and @ForestandPaper members are committed to...</td>\n",
       "      <td>4</td>\n",
       "    </tr>\n",
       "  </tbody>\n",
       "</table>\n",
       "<p>3798 rows × 2 columns</p>\n",
       "</div>"
      ],
      "text/plain": [
       "                                                Reviews  Sentiment\n",
       "0     TRENDING: New Yorkers encounter empty supermar...          0\n",
       "1     When I couldn't find hand sanitizer at Fred Me...          3\n",
       "2     Find out how you can protect yourself and love...          4\n",
       "3     #Panic buying hits #NewYork City as anxious sh...          1\n",
       "4     #toiletpaper #dunnypaper #coronavirus #coronav...          2\n",
       "...                                                 ...        ...\n",
       "3793  Meanwhile In A Supermarket in Israel -- People...          3\n",
       "3794  Did you panic buy a lot of non-perishable item...          1\n",
       "3795  Asst Prof of Economics @cconces was on @NBCPhi...          2\n",
       "3796  Gov need to do somethings instead of biar je r...          0\n",
       "3797  I and @ForestandPaper members are committed to...          4\n",
       "\n",
       "[3798 rows x 2 columns]"
      ]
     },
     "execution_count": 18,
     "metadata": {},
     "output_type": "execute_result"
    }
   ],
   "source": [
    "test=pd.read_csv(os.path.join(_PATH_DATA ,\"df_test.csv\"),index_col=0)\n",
    "test"
   ]
  },
  {
   "cell_type": "code",
   "execution_count": 29,
   "id": "b03e5c8e",
   "metadata": {},
   "outputs": [
    {
     "name": "stdout",
     "output_type": "stream",
     "text": [
      "DatasetDict({\n",
      "    train: Dataset({\n",
      "        features: ['text', 'labels', 'input_ids', 'token_type_ids', 'attention_mask'],\n",
      "        num_rows: 41157\n",
      "    })\n",
      "    test: Dataset({\n",
      "        features: ['text', 'labels', 'input_ids', 'token_type_ids', 'attention_mask'],\n",
      "        num_rows: 3798\n",
      "    })\n",
      "})\n"
     ]
    }
   ],
   "source": [
    "# Load the dataset\n",
    "dataset = torch.load(os.path.join(_PATH_DATA ,'dataset.pth'))\n",
    "\n",
    "# Use the dataset\n",
    "print(dataset)"
   ]
  },
  {
   "cell_type": "code",
   "execution_count": 54,
   "id": "242530ab",
   "metadata": {},
   "outputs": [
    {
     "name": "stdout",
     "output_type": "stream",
     "text": [
      "128\n"
     ]
    }
   ],
   "source": [
    "print(len(first_datapoint['attention_mask']))"
   ]
  },
  {
   "cell_type": "code",
   "execution_count": 25,
   "id": "8e2ab227",
   "metadata": {},
   "outputs": [
    {
     "data": {
      "text/plain": [
       "{'train': (41157, 5), 'test': (3798, 5)}"
      ]
     },
     "execution_count": 25,
     "metadata": {},
     "output_type": "execute_result"
    }
   ],
   "source": [
    "dataset.shape"
   ]
  },
  {
   "cell_type": "code",
   "execution_count": 56,
   "id": "d3f9f20f",
   "metadata": {},
   "outputs": [
    {
     "name": "stdout",
     "output_type": "stream",
     "text": [
      "128 128 128\n"
     ]
    }
   ],
   "source": [
    "# Get the first datapoint from the dataset\n",
    "first_datapoint = dataset['train'][4]\n",
    "print(len(first_datapoint['input_ids']),len(first_datapoint['token_type_ids']),len(first_datapoint['attention_mask']))"
   ]
  },
  {
   "cell_type": "code",
   "execution_count": 57,
   "id": "f2ffe80b",
   "metadata": {},
   "outputs": [],
   "source": [
    "for datapoint in dataset['train']:\n",
    "    assert len(datapoint['input_ids']) == 128\n",
    "    assert len(datapoint['token_type_ids']) == 128\n",
    "    assert len(datapoint['attention_mask']) == 128"
   ]
  },
  {
   "cell_type": "code",
   "execution_count": 46,
   "id": "3f147139",
   "metadata": {},
   "outputs": [
    {
     "data": {
      "text/plain": [
       "128"
      ]
     },
     "execution_count": 46,
     "metadata": {},
     "output_type": "execute_result"
    }
   ],
   "source": [
    "len(first_datapoint['input_ids'])"
   ]
  },
  {
   "cell_type": "code",
   "execution_count": 60,
   "id": "54bd7d30",
   "metadata": {},
   "outputs": [],
   "source": [
    "# Check if at least 50 of each label are included\n",
    "label_count = {0: 0, 1: 0, 2: 0, 3: 0, 4: 0}\n",
    "# Iterate through all datapoints in the dataset\n",
    "for datapoint in dataset['train']:\n",
    "    label = datapoint['labels']\n",
    "    label_count[label] += 1"
   ]
  },
  {
   "cell_type": "code",
   "execution_count": 61,
   "id": "db4a58a0",
   "metadata": {},
   "outputs": [
    {
     "data": {
      "text/plain": [
       "{0: 5481, 1: 9917, 2: 7713, 3: 11422, 4: 6624}"
      ]
     },
     "execution_count": 61,
     "metadata": {},
     "output_type": "execute_result"
    }
   ],
   "source": [
    "label_count"
   ]
  },
  {
   "cell_type": "code",
   "execution_count": 62,
   "id": "db47f993",
   "metadata": {},
   "outputs": [
    {
     "data": {
      "text/plain": [
       "{0: 592, 1: 1041, 2: 619, 3: 947, 4: 599}"
      ]
     },
     "execution_count": 62,
     "metadata": {},
     "output_type": "execute_result"
    }
   ],
   "source": [
    "# Check if at least 50 of each label are included\n",
    "label_count = {0: 0, 1: 0, 2: 0, 3: 0, 4: 0}\n",
    "# Iterate through all datapoints in the dataset\n",
    "for datapoint in dataset['test']:\n",
    "    label = datapoint['labels']\n",
    "    label_count[label] += 1\n",
    "label_count"
   ]
  },
  {
   "cell_type": "code",
   "execution_count": null,
   "id": "33f54c91",
   "metadata": {},
   "outputs": [],
   "source": []
  }
 ],
 "metadata": {
  "kernelspec": {
   "display_name": "Python 3 (ipykernel)",
   "language": "python",
   "name": "python3"
  },
  "language_info": {
   "codemirror_mode": {
    "name": "ipython",
    "version": 3
   },
   "file_extension": ".py",
   "mimetype": "text/x-python",
   "name": "python",
   "nbconvert_exporter": "python",
   "pygments_lexer": "ipython3",
   "version": "3.9.13"
  }
 },
 "nbformat": 4,
 "nbformat_minor": 5
}
